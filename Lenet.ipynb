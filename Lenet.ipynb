{
  "nbformat": 4,
  "nbformat_minor": 0,
  "metadata": {
    "colab": {
      "name": "Lenet.ipynb",
      "provenance": []
    },
    "kernelspec": {
      "name": "python3",
      "display_name": "Python 3"
    },
    "accelerator": "GPU"
  },
  "cells": [
    {
      "cell_type": "code",
      "metadata": {
        "id": "3yhdIS5czsld"
      },
      "source": [
        "from keras.datasets import mnist\r\n",
        "from keras.optimizers import SGD\r\n",
        "from keras.utils import np_utils\r\n",
        "from keras.models import Sequential\r\n",
        "from keras.layers.convolutional import Conv2D\r\n",
        "from keras.layers.convolutional import MaxPooling2D\r\n",
        "from keras.layers.convolutional import AveragePooling2D\r\n",
        "from keras.layers.core import Activation\r\n",
        "from keras.layers.core import Flatten\r\n",
        "from keras.layers.core import Dense"
      ],
      "execution_count": null,
      "outputs": []
    },
    {
      "cell_type": "code",
      "metadata": {
        "id": "pGW_B1pA0thb"
      },
      "source": [
        "import numpy as np\r\n",
        "import cv2\r\n",
        "import matplotlib.pyplot as plt\r\n"
      ],
      "execution_count": null,
      "outputs": []
    },
    {
      "cell_type": "code",
      "metadata": {
        "id": "mlmwbtW004O6"
      },
      "source": [
        "from google.colab.patches import cv2_imshow"
      ],
      "execution_count": null,
      "outputs": []
    },
    {
      "cell_type": "code",
      "metadata": {
        "id": "4FxkV0oi0_DK"
      },
      "source": [
        "def build_lenet(width,height,depth,classes):\r\n",
        "  model= Sequential()\r\n",
        "  model.add(Conv2D(6,(5, 5),padding=\"valid\",input_shape=(height,width,depth)))\r\n",
        "  model.add(Activation(\"tanh\"))\r\n",
        "  model.add(AveragePooling2D(pool_size=(2,2),strides=(2, 2)))\r\n",
        "\r\n",
        "  model.add(Conv2D(16,(5, 5),padding=\"valid\"))\r\n",
        "  model.add(Activation(\"tanh\"))\r\n",
        "  model.add(AveragePooling2D(pool_size=(2,2),strides=(2,2)))\r\n",
        "\r\n",
        "  model.add(Conv2D(120,(5, 5),padding=\"valid\"))\r\n",
        "  model.add(Activation(\"tanh\"))\r\n",
        "\r\n",
        "  model.add(Flatten())\r\n",
        "  model.add(Dense(84))\r\n",
        "  model.add(Activation(\"tanh\"))\r\n",
        "\r\n",
        "  model.add(Dense(classes))\r\n",
        "  model.add(Activation(\"softmax\"))\r\n",
        "\r\n",
        "  return model\r\n",
        "\r\n"
      ],
      "execution_count": null,
      "outputs": []
    },
    {
      "cell_type": "code",
      "metadata": {
        "id": "hBt9NdtG3DXD"
      },
      "source": [
        "def graph_history_training(history):\r\n",
        "  plt.grid(b=None)\r\n",
        "  plt.axis('off')\r\n",
        "  training_loss = history.history['loss']\r\n",
        "  val_loss = history.history['val_loss']\r\n",
        "  train_accuracy=history.history['accuracy']\r\n",
        "  val_accuracy=history.history['val_accuracy']\r\n",
        "  epoch_count = range(1, len(train_accuracy) + 1)\r\n",
        "  plt.subplot(211)\r\n",
        "  plt.plot(epoch_count, training_loss, 'r--')\r\n",
        "  plt.plot(epoch_count, val_loss, 'b-')\r\n",
        "  plt.legend(['Training Loss', 'Valid Loss'])\r\n",
        "  plt.xlabel('Epoch')\r\n",
        "  plt.ylabel('Loss')\r\n",
        "\r\n",
        "  plt.subplot(212)\r\n",
        "  plt.plot(epoch_count, train_accuracy, 'r--')\r\n",
        "  plt.plot(epoch_count,val_accuracy, 'b-')\r\n",
        "  plt.legend(['Training Accuracy', 'Valid Accuracy'])\r\n",
        "  plt.xlabel('Epoch')\r\n",
        "  plt.ylabel(\"Accuracy\")\r\n",
        "  plt.show();\r\n",
        "\r\n",
        "  plt.show()"
      ],
      "execution_count": null,
      "outputs": []
    },
    {
      "cell_type": "code",
      "metadata": {
        "id": "1fl8eiPA5CnH"
      },
      "source": [
        "(trainData,trainLabels),(testData,testLabels) = mnist.load_data()"
      ],
      "execution_count": null,
      "outputs": []
    },
    {
      "cell_type": "code",
      "metadata": {
        "colab": {
          "base_uri": "https://localhost:8080/"
        },
        "id": "sYUfxQY5oUFP",
        "outputId": "d4ea2db7-adc9-425b-997f-4a95caf43ade"
      },
      "source": [
        "print(trainData.shape,testData.shape)"
      ],
      "execution_count": null,
      "outputs": [
        {
          "output_type": "stream",
          "text": [
            "(60000, 28, 28) (10000, 28, 28)\n"
          ],
          "name": "stdout"
        }
      ]
    },
    {
      "cell_type": "code",
      "metadata": {
        "id": "YRb-LPaOoe_K"
      },
      "source": [
        "trainX=np.zeros((60000,32,32))\r\n",
        "testX=np.zeros((10000,32,32))\r\n",
        "for i in range(trainData.shape[0]):\r\n",
        "  padded_array = np.pad(trainData[i], 2, mode='constant')\r\n",
        "  trainX[i]=padded_array\r\n",
        "for i in range(testData.shape[0]):\r\n",
        "  padded_array = np.pad(testData[i], 2, mode='constant')\r\n",
        "  testX[i]=padded_array"
      ],
      "execution_count": null,
      "outputs": []
    },
    {
      "cell_type": "code",
      "metadata": {
        "colab": {
          "base_uri": "https://localhost:8080/"
        },
        "id": "Y1WUqLgapVyY",
        "outputId": "95d7af45-d9c7-486f-e4ce-7c7d114bd8af"
      },
      "source": [
        "import sys\r\n",
        "np.set_printoptions(threshold=sys.maxsize)\r\n",
        "print(trainX.shape,testX.shape,trainLabels.shape,testLabels.shape)\r\n",
        "print(trainLabels[0])"
      ],
      "execution_count": null,
      "outputs": [
        {
          "output_type": "stream",
          "text": [
            "(60000, 32, 32) (10000, 32, 32) (60000,) (10000,)\n",
            "5\n"
          ],
          "name": "stdout"
        }
      ]
    },
    {
      "cell_type": "code",
      "metadata": {
        "id": "7t4axwi05SKg"
      },
      "source": [
        "trainX = trainX[:,:,:,np.newaxis]\r\n",
        "testX = testX[:,:,:,np.newaxis]\r\n"
      ],
      "execution_count": null,
      "outputs": []
    },
    {
      "cell_type": "code",
      "metadata": {
        "id": "jdSV0GTD5hah"
      },
      "source": [
        "trainX = trainX/255.0\r\n",
        "testX = testX/255.0"
      ],
      "execution_count": null,
      "outputs": []
    },
    {
      "cell_type": "code",
      "metadata": {
        "id": "LMdA7Drq5o-o"
      },
      "source": [
        "trainLabels = np_utils.to_categorical(trainLabels,10)\r\n",
        "testLabels = np_utils.to_categorical(testLabels,10)"
      ],
      "execution_count": null,
      "outputs": []
    },
    {
      "cell_type": "code",
      "metadata": {
        "id": "NCxCNggX57VK",
        "colab": {
          "base_uri": "https://localhost:8080/"
        },
        "outputId": "3b8a0724-3c10-4018-fc93-58e9043fb738"
      },
      "source": [
        "opt= SGD(lr=0.01)\r\n",
        "model = build_lenet(width=32,height=32,depth=1,classes=10)\r\n",
        "print(model.summary())\r\n",
        "\r\n",
        "model.compile(loss='categorical_crossentropy',optimizer=opt,metrics=[\"accuracy\"])"
      ],
      "execution_count": null,
      "outputs": [
        {
          "output_type": "stream",
          "text": [
            "Model: \"sequential_1\"\n",
            "_________________________________________________________________\n",
            "Layer (type)                 Output Shape              Param #   \n",
            "=================================================================\n",
            "conv2d_3 (Conv2D)            (None, 28, 28, 6)         156       \n",
            "_________________________________________________________________\n",
            "activation_5 (Activation)    (None, 28, 28, 6)         0         \n",
            "_________________________________________________________________\n",
            "average_pooling2d_2 (Average (None, 14, 14, 6)         0         \n",
            "_________________________________________________________________\n",
            "conv2d_4 (Conv2D)            (None, 10, 10, 16)        2416      \n",
            "_________________________________________________________________\n",
            "activation_6 (Activation)    (None, 10, 10, 16)        0         \n",
            "_________________________________________________________________\n",
            "average_pooling2d_3 (Average (None, 5, 5, 16)          0         \n",
            "_________________________________________________________________\n",
            "conv2d_5 (Conv2D)            (None, 1, 1, 120)         48120     \n",
            "_________________________________________________________________\n",
            "activation_7 (Activation)    (None, 1, 1, 120)         0         \n",
            "_________________________________________________________________\n",
            "flatten_1 (Flatten)          (None, 120)               0         \n",
            "_________________________________________________________________\n",
            "dense_2 (Dense)              (None, 84)                10164     \n",
            "_________________________________________________________________\n",
            "activation_8 (Activation)    (None, 84)                0         \n",
            "_________________________________________________________________\n",
            "dense_3 (Dense)              (None, 10)                850       \n",
            "_________________________________________________________________\n",
            "activation_9 (Activation)    (None, 10)                0         \n",
            "=================================================================\n",
            "Total params: 61,706\n",
            "Trainable params: 61,706\n",
            "Non-trainable params: 0\n",
            "_________________________________________________________________\n",
            "None\n"
          ],
          "name": "stdout"
        }
      ]
    },
    {
      "cell_type": "code",
      "metadata": {
        "colab": {
          "base_uri": "https://localhost:8080/"
        },
        "id": "yzNh-uI86eSb",
        "outputId": "362ade04-d20e-4160-cb99-02b5bbb79501"
      },
      "source": [
        "history = model.fit(trainX,trainLabels,batch_size=128,epochs=40,validation_split=0.1,verbose=1)"
      ],
      "execution_count": null,
      "outputs": [
        {
          "output_type": "stream",
          "text": [
            "Epoch 1/40\n",
            "422/422 [==============================] - 2s 4ms/step - loss: 1.8306 - accuracy: 0.5042 - val_loss: 0.5777 - val_accuracy: 0.8725\n",
            "Epoch 2/40\n",
            "422/422 [==============================] - 1s 3ms/step - loss: 0.5711 - accuracy: 0.8548 - val_loss: 0.3678 - val_accuracy: 0.9072\n",
            "Epoch 3/40\n",
            "422/422 [==============================] - 1s 3ms/step - loss: 0.4168 - accuracy: 0.8868 - val_loss: 0.3014 - val_accuracy: 0.9158\n",
            "Epoch 4/40\n",
            "422/422 [==============================] - 1s 3ms/step - loss: 0.3556 - accuracy: 0.9002 - val_loss: 0.2668 - val_accuracy: 0.9258\n",
            "Epoch 5/40\n",
            "422/422 [==============================] - 1s 3ms/step - loss: 0.3228 - accuracy: 0.9070 - val_loss: 0.2409 - val_accuracy: 0.9318\n",
            "Epoch 6/40\n",
            "422/422 [==============================] - 1s 3ms/step - loss: 0.2905 - accuracy: 0.9145 - val_loss: 0.2209 - val_accuracy: 0.9383\n",
            "Epoch 7/40\n",
            "422/422 [==============================] - 1s 3ms/step - loss: 0.2685 - accuracy: 0.9206 - val_loss: 0.2050 - val_accuracy: 0.9422\n",
            "Epoch 8/40\n",
            "422/422 [==============================] - 1s 3ms/step - loss: 0.2463 - accuracy: 0.9269 - val_loss: 0.1899 - val_accuracy: 0.9460\n",
            "Epoch 9/40\n",
            "422/422 [==============================] - 1s 3ms/step - loss: 0.2354 - accuracy: 0.9311 - val_loss: 0.1770 - val_accuracy: 0.9512\n",
            "Epoch 10/40\n",
            "422/422 [==============================] - 1s 3ms/step - loss: 0.2195 - accuracy: 0.9345 - val_loss: 0.1649 - val_accuracy: 0.9550\n",
            "Epoch 11/40\n",
            "422/422 [==============================] - 1s 3ms/step - loss: 0.2042 - accuracy: 0.9384 - val_loss: 0.1546 - val_accuracy: 0.9582\n",
            "Epoch 12/40\n",
            "422/422 [==============================] - 1s 3ms/step - loss: 0.1880 - accuracy: 0.9449 - val_loss: 0.1452 - val_accuracy: 0.9600\n",
            "Epoch 13/40\n",
            "422/422 [==============================] - 1s 3ms/step - loss: 0.1795 - accuracy: 0.9469 - val_loss: 0.1373 - val_accuracy: 0.9625\n",
            "Epoch 14/40\n",
            "422/422 [==============================] - 1s 3ms/step - loss: 0.1649 - accuracy: 0.9525 - val_loss: 0.1299 - val_accuracy: 0.9643\n",
            "Epoch 15/40\n",
            "422/422 [==============================] - 1s 3ms/step - loss: 0.1608 - accuracy: 0.9523 - val_loss: 0.1233 - val_accuracy: 0.9665\n",
            "Epoch 16/40\n",
            "422/422 [==============================] - 1s 3ms/step - loss: 0.1512 - accuracy: 0.9555 - val_loss: 0.1173 - val_accuracy: 0.9678\n",
            "Epoch 17/40\n",
            "422/422 [==============================] - 1s 3ms/step - loss: 0.1431 - accuracy: 0.9585 - val_loss: 0.1118 - val_accuracy: 0.9683\n",
            "Epoch 18/40\n",
            "422/422 [==============================] - 1s 3ms/step - loss: 0.1371 - accuracy: 0.9594 - val_loss: 0.1075 - val_accuracy: 0.9688\n",
            "Epoch 19/40\n",
            "422/422 [==============================] - 1s 3ms/step - loss: 0.1316 - accuracy: 0.9621 - val_loss: 0.1028 - val_accuracy: 0.9708\n",
            "Epoch 20/40\n",
            "422/422 [==============================] - 1s 3ms/step - loss: 0.1243 - accuracy: 0.9639 - val_loss: 0.0993 - val_accuracy: 0.9720\n",
            "Epoch 21/40\n",
            "422/422 [==============================] - 2s 4ms/step - loss: 0.1152 - accuracy: 0.9658 - val_loss: 0.0953 - val_accuracy: 0.9735\n",
            "Epoch 22/40\n",
            "422/422 [==============================] - 1s 3ms/step - loss: 0.1121 - accuracy: 0.9670 - val_loss: 0.0916 - val_accuracy: 0.9745\n",
            "Epoch 23/40\n",
            "422/422 [==============================] - 1s 3ms/step - loss: 0.1099 - accuracy: 0.9684 - val_loss: 0.0884 - val_accuracy: 0.9748\n",
            "Epoch 24/40\n",
            "422/422 [==============================] - 1s 3ms/step - loss: 0.1013 - accuracy: 0.9712 - val_loss: 0.0854 - val_accuracy: 0.9777\n",
            "Epoch 25/40\n",
            "422/422 [==============================] - 1s 3ms/step - loss: 0.1011 - accuracy: 0.9694 - val_loss: 0.0830 - val_accuracy: 0.9777\n",
            "Epoch 26/40\n",
            "422/422 [==============================] - 1s 3ms/step - loss: 0.1004 - accuracy: 0.9705 - val_loss: 0.0800 - val_accuracy: 0.9775\n",
            "Epoch 27/40\n",
            "422/422 [==============================] - 1s 3ms/step - loss: 0.0941 - accuracy: 0.9724 - val_loss: 0.0779 - val_accuracy: 0.9785\n",
            "Epoch 28/40\n",
            "422/422 [==============================] - 1s 4ms/step - loss: 0.0905 - accuracy: 0.9734 - val_loss: 0.0763 - val_accuracy: 0.9793\n",
            "Epoch 29/40\n",
            "422/422 [==============================] - 1s 3ms/step - loss: 0.0875 - accuracy: 0.9739 - val_loss: 0.0737 - val_accuracy: 0.9790\n",
            "Epoch 30/40\n",
            "422/422 [==============================] - 1s 3ms/step - loss: 0.0854 - accuracy: 0.9747 - val_loss: 0.0725 - val_accuracy: 0.9798\n",
            "Epoch 31/40\n",
            "422/422 [==============================] - 1s 3ms/step - loss: 0.0811 - accuracy: 0.9766 - val_loss: 0.0714 - val_accuracy: 0.9805\n",
            "Epoch 32/40\n",
            "422/422 [==============================] - 1s 4ms/step - loss: 0.0813 - accuracy: 0.9761 - val_loss: 0.0700 - val_accuracy: 0.9808\n",
            "Epoch 33/40\n",
            "422/422 [==============================] - 1s 3ms/step - loss: 0.0787 - accuracy: 0.9768 - val_loss: 0.0686 - val_accuracy: 0.9805\n",
            "Epoch 34/40\n",
            "422/422 [==============================] - 2s 4ms/step - loss: 0.0775 - accuracy: 0.9773 - val_loss: 0.0667 - val_accuracy: 0.9818\n",
            "Epoch 35/40\n",
            "422/422 [==============================] - 1s 3ms/step - loss: 0.0721 - accuracy: 0.9790 - val_loss: 0.0652 - val_accuracy: 0.9822\n",
            "Epoch 36/40\n",
            "422/422 [==============================] - 1s 3ms/step - loss: 0.0742 - accuracy: 0.9788 - val_loss: 0.0644 - val_accuracy: 0.9818\n",
            "Epoch 37/40\n",
            "422/422 [==============================] - 1s 3ms/step - loss: 0.0683 - accuracy: 0.9803 - val_loss: 0.0642 - val_accuracy: 0.9815\n",
            "Epoch 38/40\n",
            "422/422 [==============================] - 1s 3ms/step - loss: 0.0704 - accuracy: 0.9791 - val_loss: 0.0621 - val_accuracy: 0.9827\n",
            "Epoch 39/40\n",
            "422/422 [==============================] - 1s 4ms/step - loss: 0.0691 - accuracy: 0.9798 - val_loss: 0.0610 - val_accuracy: 0.9832\n",
            "Epoch 40/40\n",
            "422/422 [==============================] - 1s 3ms/step - loss: 0.0667 - accuracy: 0.9804 - val_loss: 0.0595 - val_accuracy: 0.9827\n"
          ],
          "name": "stdout"
        }
      ]
    },
    {
      "cell_type": "code",
      "metadata": {
        "colab": {
          "base_uri": "https://localhost:8080/"
        },
        "id": "uKRNPmxv63Py",
        "outputId": "b8becc33-ed8f-439c-d7d4-30fa2400664c"
      },
      "source": [
        "(val_loss,val_accuracy)= model.evaluate(testX,testLabels,batch_size=128,verbose=1)\r\n",
        "print(val_accuracy*100)\r\n",
        "print(val_loss)"
      ],
      "execution_count": null,
      "outputs": [
        {
          "output_type": "stream",
          "text": [
            "79/79 [==============================] - 0s 2ms/step - loss: 0.0636 - accuracy: 0.9805\n",
            "98.04999828338623\n",
            "0.06364419311285019\n"
          ],
          "name": "stdout"
        }
      ]
    },
    {
      "cell_type": "code",
      "metadata": {
        "colab": {
          "base_uri": "https://localhost:8080/",
          "height": 391
        },
        "id": "iyzlz16I8BhT",
        "outputId": "74f2a17e-8442-43c9-d588-970d18b80de4"
      },
      "source": [
        "training_loss = history.history['loss']\n",
        "val_loss = history.history['val_loss']\n",
        "plt.grid(b=None)\n",
        "\n",
        "# Create count of the number of epochs\n",
        "epoch_count = range(1, len(training_loss) + 1)\n",
        "\n",
        "# Visualize loss history\n",
        "#plt.grid(True)\n",
        "ax = plt.axes()\n",
        "ax.set_facecolor(\"white\")\n",
        "plt.figure(1,figsize=(5,5))\n",
        "plt.plot(epoch_count, training_loss, 'r--')\n",
        "plt.plot(epoch_count, val_loss, 'b-')\n",
        "plt.legend(['Training Loss', 'Valid Loss'])\n",
        "plt.xlabel('Epoch')\n",
        "plt.ylabel('Loss')\n",
        "plt.show();"
      ],
      "execution_count": null,
      "outputs": [
        {
          "output_type": "stream",
          "text": [
            "/usr/local/lib/python3.6/dist-packages/ipykernel_launcher.py:10: MatplotlibDeprecationWarning: Adding an axes using the same arguments as a previous axes currently reuses the earlier instance.  In a future version, a new instance will always be created and returned.  Meanwhile, this warning can be suppressed, and the future behavior ensured, by passing a unique label to each axes instance.\n",
            "  # Remove the CWD from sys.path while we load stuff.\n"
          ],
          "name": "stderr"
        },
        {
          "output_type": "display_data",
          "data": {
            "image/png": "[encoded data removed]",
            "text/plain": [
              "<Figure size 360x360 with 1 Axes>"
            ]
          },
          "metadata": {
            "tags": []
          }
        }
      ]
    },
    {
      "cell_type": "code",
      "metadata": {
        "colab": {
          "base_uri": "https://localhost:8080/",
          "height": 391
        },
        "id": "78B70Blllnz4",
        "outputId": "b54cb745-a469-4ba7-d686-3a031fab5c2d"
      },
      "source": [
        "train_accuracy=history.history['accuracy']\n",
        "val_accuracy=history.history['val_accuracy']\n",
        "plt.grid(b=None)\n",
        "# Create count of the number of epochs\n",
        "epoch_count = range(1, len(train_accuracy) + 1)\n",
        "ax = plt.axes()\n",
        "ax.set_facecolor(\"white\")\n",
        "plt.figure(1,figsize=(5,5))\n",
        "plt.plot(epoch_count, train_accuracy, 'r--')\n",
        "plt.plot(epoch_count,val_accuracy, 'b-')\n",
        "plt.legend(['Training Accuracy', 'Valid Accuracy'])\n",
        "plt.xlabel('Epoch')\n",
        "plt.ylabel(\"Accuracy\")\n",
        "plt.show();"
      ],
      "execution_count": null,
      "outputs": [
        {
          "output_type": "stream",
          "text": [
            "/usr/local/lib/python3.6/dist-packages/ipykernel_launcher.py:6: MatplotlibDeprecationWarning: Adding an axes using the same arguments as a previous axes currently reuses the earlier instance.  In a future version, a new instance will always be created and returned.  Meanwhile, this warning can be suppressed, and the future behavior ensured, by passing a unique label to each axes instance.\n",
            "  \n"
          ],
          "name": "stderr"
        },
        {
          "output_type": "display_data",
          "data": {
            "image/png": "[encoded data removed]",
            "text/plain": [
              "<Figure size 360x360 with 1 Axes>"
            ]
          },
          "metadata": {
            "tags": []
          }
        }
      ]
    },
    {
      "cell_type": "code",
      "metadata": {
        "id": "G5ktBBxl_c4i"
      },
      "source": [
        ""
      ],
      "execution_count": null,
      "outputs": []
    }
  ]
}