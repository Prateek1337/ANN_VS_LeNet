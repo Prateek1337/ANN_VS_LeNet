{
  "nbformat": 4,
  "nbformat_minor": 0,
  "metadata": {
    "colab": {
      "name": "ANN.ipynb",
      "provenance": []
    },
    "kernelspec": {
      "name": "python3",
      "display_name": "Python 3"
    }
  },
  "cells": [
    {
      "cell_type": "code",
      "metadata": {
        "id": "HxDjAQqA2T0y"
      },
      "source": [
        "import tensorflow as tf\n",
        "from tensorflow.keras.datasets import mnist\n",
        "from tensorflow.keras.utils import to_categorical\n",
        "from tensorflow.keras.layers import Flatten, Dense\n",
        "import matplotlib.pyplot as plt\n",
        "from keras.layers import Dense \n",
        "from keras.models import Sequential\n"
      ],
      "execution_count": null,
      "outputs": []
    },
    {
      "cell_type": "code",
      "metadata": {
        "colab": {
          "base_uri": "https://localhost:8080/"
        },
        "id": "Jnm1LCe02ZjH",
        "outputId": "26fc36ff-38b7-464d-fd5c-67328905d021"
      },
      "source": [
        "(x_train, y_train), (x_test, y_test) = mnist.load_data()"
      ],
      "execution_count": null,
      "outputs": [
        {
          "output_type": "stream",
          "text": [
            "Downloading data from https://storage.googleapis.com/tensorflow/tf-keras-datasets/mnist.npz\n",
            "11493376/11490434 [==============================] - 0s 0us/step\n"
          ],
          "name": "stdout"
        }
      ]
    },
    {
      "cell_type": "code",
      "metadata": {
        "colab": {
          "base_uri": "https://localhost:8080/"
        },
        "id": "JE9bwyt_2dqX",
        "outputId": "426704cf-af93-485a-9e09-a5bdec639450"
      },
      "source": [
        "print(x_train.shape,y_train.shape)\n",
        "print(x_test.shape,y_test.shape)"
      ],
      "execution_count": null,
      "outputs": [
        {
          "output_type": "stream",
          "text": [
            "(60000, 28, 28) (60000,)\n",
            "(10000, 28, 28) (10000,)\n"
          ],
          "name": "stdout"
        }
      ]
    },
    {
      "cell_type": "code",
      "metadata": {
        "id": "OAwDObrK6p6q"
      },
      "source": [
        "# Flatten the images\n",
        "image_vector_size = 28*28\n",
        "x_train = x_train.reshape(x_train.shape[0], image_vector_size)\n",
        "x_test = x_test.reshape(x_test.shape[0], image_vector_size)"
      ],
      "execution_count": null,
      "outputs": []
    },
    {
      "cell_type": "code",
      "metadata": {
        "id": "-cCoW6jV2ktr",
        "colab": {
          "base_uri": "https://localhost:8080/"
        },
        "outputId": "705fb55e-1441-4798-eaba-95e7f3519916"
      },
      "source": [
        "num_classes = 10\n",
        "y_train = to_categorical(y_train, num_classes)\n",
        "y_test = to_categorical(y_test, num_classes)\n",
        "print(\"First 5 training lables as one-hot encoded vectors:\\n\", y_train[:5])"
      ],
      "execution_count": null,
      "outputs": [
        {
          "output_type": "stream",
          "text": [
            "First 5 training lables as one-hot encoded vectors:\n",
            " [[0. 0. 0. 0. 0. 1. 0. 0. 0. 0.]\n",
            " [1. 0. 0. 0. 0. 0. 0. 0. 0. 0.]\n",
            " [0. 0. 0. 0. 1. 0. 0. 0. 0. 0.]\n",
            " [0. 1. 0. 0. 0. 0. 0. 0. 0. 0.]\n",
            " [0. 0. 0. 0. 0. 0. 0. 0. 0. 1.]]\n"
          ],
          "name": "stdout"
        }
      ]
    },
    {
      "cell_type": "code",
      "metadata": {
        "colab": {
          "base_uri": "https://localhost:8080/"
        },
        "id": "fAGwPXNW6ylZ",
        "outputId": "7c4677fa-48f7-43d8-aebe-7bf032347db9"
      },
      "source": [
        "print(x_train.shape,y_train.shape)\n",
        "print(x_test.shape,y_test.shape)"
      ],
      "execution_count": null,
      "outputs": [
        {
          "output_type": "stream",
          "text": [
            "(60000, 784) (60000, 10)\n",
            "(10000, 784) (10000, 10)\n"
          ],
          "name": "stdout"
        }
      ]
    },
    {
      "cell_type": "code",
      "metadata": {
        "id": "1GaCNABh3C99",
        "colab": {
          "base_uri": "https://localhost:8080/"
        },
        "outputId": "5066e3f0-4e42-486a-9374-5cc9c12eab22"
      },
      "source": [
        "\n",
        "image_size = 784\n",
        "num_classes = 10 \n",
        "\n",
        "model = Sequential()\n",
        "\n",
        "model.add(Dense(128, activation='tanh', input_shape=(image_size,)))\n",
        "model.add(Dense(128, activation='tanh'))\n",
        "model.add(Dense(num_classes, activation='softmax'))\n",
        "model.summary()\n",
        "\n",
        "model.compile(optimizer='SGD',\n",
        "              loss='categorical_crossentropy',\n",
        "              metrics=['accuracy'])"
      ],
      "execution_count": null,
      "outputs": [
        {
          "output_type": "stream",
          "text": [
            "Model: \"sequential\"\n",
            "_________________________________________________________________\n",
            "Layer (type)                 Output Shape              Param #   \n",
            "=================================================================\n",
            "dense (Dense)                (None, 128)               100480    \n",
            "_________________________________________________________________\n",
            "dense_1 (Dense)              (None, 128)               16512     \n",
            "_________________________________________________________________\n",
            "dense_2 (Dense)              (None, 10)                1290      \n",
            "=================================================================\n",
            "Total params: 118,282\n",
            "Trainable params: 118,282\n",
            "Non-trainable params: 0\n",
            "_________________________________________________________________\n"
          ],
          "name": "stdout"
        }
      ]
    },
    {
      "cell_type": "code",
      "metadata": {
        "colab": {
          "base_uri": "https://localhost:8080/"
        },
        "id": "K2u_-M3w3I10",
        "outputId": "3f4d3b36-329f-4073-9fcb-3f052bc364f3"
      },
      "source": [
        "history=model.fit(x_train, y_train, batch_size=128, epochs=40, validation_split=0.1)"
      ],
      "execution_count": null,
      "outputs": [
        {
          "output_type": "stream",
          "text": [
            "Epoch 1/40\n",
            "422/422 [==============================] - 2s 4ms/step - loss: 1.3500 - accuracy: 0.5913 - val_loss: 0.4563 - val_accuracy: 0.8905\n",
            "Epoch 2/40\n",
            "422/422 [==============================] - 2s 4ms/step - loss: 0.4837 - accuracy: 0.8684 - val_loss: 0.3377 - val_accuracy: 0.9095\n",
            "Epoch 3/40\n",
            "422/422 [==============================] - 2s 4ms/step - loss: 0.3853 - accuracy: 0.8912 - val_loss: 0.2949 - val_accuracy: 0.9195\n",
            "Epoch 4/40\n",
            "422/422 [==============================] - 2s 4ms/step - loss: 0.3401 - accuracy: 0.9023 - val_loss: 0.2824 - val_accuracy: 0.9208\n",
            "Epoch 5/40\n",
            "422/422 [==============================] - 2s 4ms/step - loss: 0.3234 - accuracy: 0.9061 - val_loss: 0.2560 - val_accuracy: 0.9288\n",
            "Epoch 6/40\n",
            "422/422 [==============================] - 2s 4ms/step - loss: 0.2932 - accuracy: 0.9139 - val_loss: 0.2496 - val_accuracy: 0.9300\n",
            "Epoch 7/40\n",
            "422/422 [==============================] - 2s 4ms/step - loss: 0.2889 - accuracy: 0.9158 - val_loss: 0.2434 - val_accuracy: 0.9303\n",
            "Epoch 8/40\n",
            "422/422 [==============================] - 2s 4ms/step - loss: 0.2699 - accuracy: 0.9213 - val_loss: 0.2190 - val_accuracy: 0.9375\n",
            "Epoch 9/40\n",
            "422/422 [==============================] - 2s 4ms/step - loss: 0.2563 - accuracy: 0.9241 - val_loss: 0.2282 - val_accuracy: 0.9345\n",
            "Epoch 10/40\n",
            "422/422 [==============================] - 2s 4ms/step - loss: 0.2517 - accuracy: 0.9275 - val_loss: 0.2095 - val_accuracy: 0.9373\n",
            "Epoch 11/40\n",
            "422/422 [==============================] - 2s 4ms/step - loss: 0.2321 - accuracy: 0.9319 - val_loss: 0.1958 - val_accuracy: 0.9473\n",
            "Epoch 12/40\n",
            "422/422 [==============================] - 2s 4ms/step - loss: 0.2378 - accuracy: 0.9305 - val_loss: 0.2030 - val_accuracy: 0.9392\n",
            "Epoch 13/40\n",
            "422/422 [==============================] - 2s 4ms/step - loss: 0.2362 - accuracy: 0.9287 - val_loss: 0.2014 - val_accuracy: 0.9433\n",
            "Epoch 14/40\n",
            "422/422 [==============================] - 2s 4ms/step - loss: 0.2224 - accuracy: 0.9341 - val_loss: 0.1871 - val_accuracy: 0.9480\n",
            "Epoch 15/40\n",
            "422/422 [==============================] - 2s 4ms/step - loss: 0.2183 - accuracy: 0.9340 - val_loss: 0.1833 - val_accuracy: 0.9477\n",
            "Epoch 16/40\n",
            "422/422 [==============================] - 2s 4ms/step - loss: 0.2058 - accuracy: 0.9385 - val_loss: 0.1764 - val_accuracy: 0.9523\n",
            "Epoch 17/40\n",
            "422/422 [==============================] - 2s 4ms/step - loss: 0.2028 - accuracy: 0.9394 - val_loss: 0.1773 - val_accuracy: 0.9497\n",
            "Epoch 18/40\n",
            "422/422 [==============================] - 2s 4ms/step - loss: 0.1967 - accuracy: 0.9417 - val_loss: 0.1812 - val_accuracy: 0.9503\n",
            "Epoch 19/40\n",
            "422/422 [==============================] - 2s 4ms/step - loss: 0.2040 - accuracy: 0.9390 - val_loss: 0.1864 - val_accuracy: 0.9480\n",
            "Epoch 20/40\n",
            "422/422 [==============================] - 2s 4ms/step - loss: 0.2011 - accuracy: 0.9402 - val_loss: 0.1736 - val_accuracy: 0.9510\n",
            "Epoch 21/40\n",
            "422/422 [==============================] - 2s 4ms/step - loss: 0.1982 - accuracy: 0.9408 - val_loss: 0.1786 - val_accuracy: 0.9500\n",
            "Epoch 22/40\n",
            "422/422 [==============================] - 2s 4ms/step - loss: 0.1874 - accuracy: 0.9441 - val_loss: 0.1725 - val_accuracy: 0.9518\n",
            "Epoch 23/40\n",
            "422/422 [==============================] - 2s 4ms/step - loss: 0.1929 - accuracy: 0.9435 - val_loss: 0.1661 - val_accuracy: 0.9532\n",
            "Epoch 24/40\n",
            "422/422 [==============================] - 2s 4ms/step - loss: 0.1875 - accuracy: 0.9440 - val_loss: 0.1637 - val_accuracy: 0.9538\n",
            "Epoch 25/40\n",
            "422/422 [==============================] - 2s 4ms/step - loss: 0.1902 - accuracy: 0.9424 - val_loss: 0.1677 - val_accuracy: 0.9540\n",
            "Epoch 26/40\n",
            "422/422 [==============================] - 2s 4ms/step - loss: 0.1856 - accuracy: 0.9454 - val_loss: 0.1607 - val_accuracy: 0.9527\n",
            "Epoch 27/40\n",
            "422/422 [==============================] - 2s 4ms/step - loss: 0.1771 - accuracy: 0.9467 - val_loss: 0.1581 - val_accuracy: 0.9548\n",
            "Epoch 28/40\n",
            "422/422 [==============================] - 2s 4ms/step - loss: 0.1727 - accuracy: 0.9479 - val_loss: 0.1555 - val_accuracy: 0.9578\n",
            "Epoch 29/40\n",
            "422/422 [==============================] - 2s 4ms/step - loss: 0.1726 - accuracy: 0.9488 - val_loss: 0.1551 - val_accuracy: 0.9562\n",
            "Epoch 30/40\n",
            "422/422 [==============================] - 2s 4ms/step - loss: 0.1728 - accuracy: 0.9465 - val_loss: 0.1538 - val_accuracy: 0.9575\n",
            "Epoch 31/40\n",
            "422/422 [==============================] - 2s 4ms/step - loss: 0.1633 - accuracy: 0.9517 - val_loss: 0.1460 - val_accuracy: 0.9593\n",
            "Epoch 32/40\n",
            "422/422 [==============================] - 2s 4ms/step - loss: 0.1578 - accuracy: 0.9515 - val_loss: 0.1479 - val_accuracy: 0.9557\n",
            "Epoch 33/40\n",
            "422/422 [==============================] - 2s 4ms/step - loss: 0.1654 - accuracy: 0.9509 - val_loss: 0.1563 - val_accuracy: 0.9545\n",
            "Epoch 34/40\n",
            "422/422 [==============================] - 2s 4ms/step - loss: 0.1755 - accuracy: 0.9474 - val_loss: 0.1540 - val_accuracy: 0.9560\n",
            "Epoch 35/40\n",
            "422/422 [==============================] - 2s 4ms/step - loss: 0.1697 - accuracy: 0.9490 - val_loss: 0.1500 - val_accuracy: 0.9553\n",
            "Epoch 36/40\n",
            "422/422 [==============================] - 2s 4ms/step - loss: 0.1664 - accuracy: 0.9504 - val_loss: 0.1442 - val_accuracy: 0.9565\n",
            "Epoch 37/40\n",
            "422/422 [==============================] - 2s 4ms/step - loss: 0.1584 - accuracy: 0.9516 - val_loss: 0.1468 - val_accuracy: 0.9562\n",
            "Epoch 38/40\n",
            "422/422 [==============================] - 2s 4ms/step - loss: 0.1520 - accuracy: 0.9550 - val_loss: 0.1439 - val_accuracy: 0.9585\n",
            "Epoch 39/40\n",
            "422/422 [==============================] - 2s 4ms/step - loss: 0.1586 - accuracy: 0.9514 - val_loss: 0.1442 - val_accuracy: 0.9592\n",
            "Epoch 40/40\n",
            "422/422 [==============================] - 2s 4ms/step - loss: 0.1527 - accuracy: 0.9537 - val_loss: 0.1472 - val_accuracy: 0.9573\n"
          ],
          "name": "stdout"
        }
      ]
    },
    {
      "cell_type": "code",
      "metadata": {
        "id": "YGSi2wiP3MZA",
        "colab": {
          "base_uri": "https://localhost:8080/"
        },
        "outputId": "8ee412f1-be45-429d-dccd-8a5899c72659"
      },
      "source": [
        "training_loss = history.history['loss']\n",
        "val_loss = history.history['val_loss']\n",
        "\n",
        "\n",
        "# Create count of the number of epochs\n",
        "epoch_count = range(1, len(training_loss) + 1)\n",
        "\n",
        "# Visualize loss history\n",
        "#plt.grid(True)\n",
        "plt.figure(1,figsize=(5,5))\n",
        "plt.plot(epoch_count, training_loss, 'r--')\n",
        "plt.plot(epoch_count, val_loss, 'b-')\n",
        "plt.legend(['Training Loss', 'Valid Loss'])\n",
        "plt.xlabel('Epoch')\n",
        "plt.ylabel('Loss')\n",
        "plt.show();"
      ],
      "execution_count": null,
      "outputs": [
        {
          "output_type": "display_data",
          "data": {
            "image/png": "[encoded data removed]",
            "text/plain": [
              "<Figure size 360x360 with 1 Axes>"
            ]
          },
          "metadata": {
            "tags": [],
            "needs_background": "light"
          }
        }
      ]
    },
    {
      "cell_type": "code",
      "metadata": {
        "colab": {
          "base_uri": "https://localhost:8080/",
          "height": 334
        },
        "id": "_LbPYPR34Hrq",
        "outputId": "7d8a6539-3bf7-4120-ea5b-205e899fc89b"
      },
      "source": [
        "train_accuracy=history.history['accuracy']\n",
        "val_accuracy=history.history['val_accuracy']\n",
        "\n",
        "# Create count of the number of epochs\n",
        "epoch_count = range(1, len(train_accuracy) + 1)\n",
        "\n",
        "plt.figure(1,figsize=(5,5))\n",
        "plt.plot(epoch_count, train_accuracy, 'r--')\n",
        "plt.plot(epoch_count,val_accuracy, 'b-')\n",
        "plt.legend(['Training Accuracy', 'Valid Accuracy'])\n",
        "plt.xlabel('Epoch')\n",
        "plt.ylabel(\"Accuracy\")\n",
        "plt.show();"
      ],
      "execution_count": null,
      "outputs": [
        {
          "output_type": "display_data",
          "data": {
            "image/png": "[encoded data removed]",
            "text/plain": [
              "<Figure size 360x360 with 1 Axes>"
            ]
          },
          "metadata": {
            "tags": [],
            "needs_background": "light"
          }
        }
      ]
    },
    {
      "cell_type": "code",
      "metadata": {
        "colab": {
          "base_uri": "https://localhost:8080/"
        },
        "id": "NINp-njm5mZQ",
        "outputId": "d2954177-2412-4d03-96ee-0107eb11bb34"
      },
      "source": [
        "loss, accuracy  = model.evaluate(x_test, y_test, verbose=False)\n",
        "print(f'Test loss: {loss:.3}')\n",
        "print(f'Test accuracy: {accuracy:.3}')"
      ],
      "execution_count": null,
      "outputs": [
        {
          "output_type": "stream",
          "text": [
            "Test loss: 0.168\n",
            "Test accuracy: 0.949\n"
          ],
          "name": "stdout"
        }
      ]
    },
    {
      "cell_type": "code",
      "metadata": {
        "id": "xbmukwGU9w3_"
      },
      "source": [
        ""
      ],
      "execution_count": null,
      "outputs": []
    }
  ]
}